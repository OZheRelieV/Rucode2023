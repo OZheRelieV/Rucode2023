{
 "cells": [
  {
   "cell_type": "markdown",
   "id": "d7969953",
   "metadata": {},
   "source": [
    "## Импорт необходимого функционала"
   ]
  },
  {
   "cell_type": "code",
   "execution_count": 1,
   "id": "3852fefa",
   "metadata": {},
   "outputs": [],
   "source": [
    "import os\n",
    "import pickle\n",
    "import numpy as np\n",
    "import pandas as pd"
   ]
  },
  {
   "cell_type": "markdown",
   "id": "3c736658",
   "metadata": {},
   "source": [
    "## Загрузка данных"
   ]
  },
  {
   "cell_type": "code",
   "execution_count": 2,
   "id": "4090b4dc",
   "metadata": {},
   "outputs": [],
   "source": [
    "sub = pd.read_csv(\"../data/mars-private_test-reg.csv\")\n",
    "test = pd.read_csv(\"../data/mars-private_test-reg.csv\").drop(['Фаза Hor', 'Фаза Ver'], axis=1)"
   ]
  },
  {
   "cell_type": "markdown",
   "id": "b7c30305",
   "metadata": {},
   "source": [
    "## Загрузка моделей"
   ]
  },
  {
   "cell_type": "code",
   "execution_count": 3,
   "id": "835c6797",
   "metadata": {},
   "outputs": [],
   "source": [
    "models_path = os.listdir(\"../models/\")\n",
    "\n",
    "models = {}\n",
    "for path in models_path:\n",
    "    with open(f\"../models/{path}\", \"rb\") as file:\n",
    "        models[path.split('.')[0]] = pickle.load(file)\n",
    "        \n",
    "del models_path"
   ]
  },
  {
   "cell_type": "markdown",
   "id": "0e607733",
   "metadata": {},
   "source": [
    "## Предсказания базовыми моделями и ансамблями"
   ]
  },
  {
   "cell_type": "code",
   "execution_count": 4,
   "id": "caefc3ef",
   "metadata": {},
   "outputs": [],
   "source": [
    "catboost_preds_t = models[\"cb\"].predict(test)\n",
    "lgbm_preds_t = models[\"lgbm\"].predict(test)\n",
    "xgb_preds_t = models[\"xgb\"].predict(test)\n",
    "rf_preds_t = models[\"rf\"].predict(test)\n",
    "et_preds_t = models[\"et\"].predict(test)\n",
    "\n",
    "breg_preds_t = models[\"best_bagging_model\"].predict(test)\n",
    "vot_preds_t = models[\"vot_reg\"].predict(test)\n",
    "\n",
    "bag_ext_preds_t = models[\"bag_ext\"].predict(test)\n",
    "bag_rf_preds_t = models[\"bag_rf\"].predict(test)\n",
    "\n",
    "rf_2_preds_t = models[\"rf2\"].predict(test)\n",
    "et_2_preds_t = models[\"et2\"].predict(test)"
   ]
  },
  {
   "cell_type": "code",
   "execution_count": 5,
   "id": "e91e7454",
   "metadata": {},
   "outputs": [],
   "source": [
    "X_meta_t = np.column_stack(\n",
    "    (\n",
    "        catboost_preds_t,\n",
    "        lgbm_preds_t,\n",
    "        xgb_preds_t,\n",
    "        rf_preds_t,\n",
    "        et_preds_t,\n",
    "        breg_preds_t,\n",
    "        vot_preds_t,\n",
    "        bag_ext_preds_t,\n",
    "        bag_rf_preds_t,\n",
    "        rf_2_preds_t,\n",
    "        et_2_preds_t\n",
    "    )\n",
    ")"
   ]
  },
  {
   "cell_type": "markdown",
   "id": "88b59337",
   "metadata": {},
   "source": [
    "## Предсказание метамоделью"
   ]
  },
  {
   "cell_type": "code",
   "execution_count": 6,
   "id": "eb38ed89",
   "metadata": {},
   "outputs": [],
   "source": [
    "meta_preds_t = models[\"meta_lr\"].predict(X_meta_t)"
   ]
  },
  {
   "cell_type": "markdown",
   "id": "c31e8cd9",
   "metadata": {},
   "source": [
    "## Оформление сабмита"
   ]
  },
  {
   "cell_type": "code",
   "execution_count": 7,
   "id": "a4c2bbb7",
   "metadata": {},
   "outputs": [],
   "source": [
    "sub[\"Доля сигнала в ВП\"] = meta_preds_t\n",
    "\n",
    "assert sub.shape[1] == 12\n",
    "\n",
    "sub.to_csv(\"submission_reg.csv\", index=False)"
   ]
  },
  {
   "cell_type": "markdown",
   "id": "5a9d8b69",
   "metadata": {},
   "source": [
    "---"
   ]
  }
 ],
 "metadata": {
  "kernelspec": {
   "display_name": "Python 3 (ipykernel)",
   "language": "python",
   "name": "python3"
  },
  "language_info": {
   "codemirror_mode": {
    "name": "ipython",
    "version": 3
   },
   "file_extension": ".py",
   "mimetype": "text/x-python",
   "name": "python",
   "nbconvert_exporter": "python",
   "pygments_lexer": "ipython3",
   "version": "3.9.13"
  },
  "varInspector": {
   "cols": {
    "lenName": 16,
    "lenType": 16,
    "lenVar": 40
   },
   "kernels_config": {
    "python": {
     "delete_cmd_postfix": "",
     "delete_cmd_prefix": "del ",
     "library": "var_list.py",
     "varRefreshCmd": "print(var_dic_list())"
    },
    "r": {
     "delete_cmd_postfix": ") ",
     "delete_cmd_prefix": "rm(",
     "library": "var_list.r",
     "varRefreshCmd": "cat(var_dic_list()) "
    }
   },
   "types_to_exclude": [
    "module",
    "function",
    "builtin_function_or_method",
    "instance",
    "_Feature"
   ],
   "window_display": false
  }
 },
 "nbformat": 4,
 "nbformat_minor": 5
}
