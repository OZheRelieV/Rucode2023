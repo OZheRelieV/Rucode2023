{
 "cells": [
  {
   "cell_type": "markdown",
   "metadata": {},
   "source": [
    "## Импорт необходимого функционала"
   ]
  },
  {
   "cell_type": "code",
   "execution_count": 1,
   "metadata": {
    "_cell_guid": "b1076dfc-b9ad-4769-8c92-a6c4dae69d19",
    "_uuid": "8f2839f25d086af736a60e9eeb907d3b93b6e0e5",
    "execution": {
     "iopub.execute_input": "2023-10-01T17:20:11.138051Z",
     "iopub.status.busy": "2023-10-01T17:20:11.137595Z",
     "iopub.status.idle": "2023-10-01T17:20:11.146701Z",
     "shell.execute_reply": "2023-10-01T17:20:11.144355Z",
     "shell.execute_reply.started": "2023-10-01T17:20:11.138016Z"
    }
   },
   "outputs": [],
   "source": [
    "import pickle\n",
    "import warnings\n",
    "\n",
    "import numpy as np\n",
    "import pandas as pd\n",
    "\n",
    "import optuna\n",
    "import xgboost\n",
    "import catboost as cb\n",
    "from lightgbm import LGBMRegressor\n",
    "from sklearn.tree import DecisionTreeRegressor\n",
    "from sklearn.linear_model import LinearRegression\n",
    "from sklearn.metrics import r2_score, make_scorer\n",
    "from sklearn.model_selection import train_test_split, GridSearchCV\n",
    "from sklearn.ensemble import (\n",
    "    RandomForestRegressor, ExtraTreesRegressor, BaggingRegressor, VotingRegressor\n",
    ")\n",
    "\n",
    "warnings.filterwarnings(\"ignore\")"
   ]
  },
  {
   "cell_type": "markdown",
   "metadata": {},
   "source": [
    "## Загрузка данных"
   ]
  },
  {
   "cell_type": "code",
   "execution_count": 2,
   "metadata": {
    "execution": {
     "iopub.execute_input": "2023-10-01T17:08:30.627114Z",
     "iopub.status.busy": "2023-10-01T17:08:30.626736Z",
     "iopub.status.idle": "2023-10-01T17:08:30.790874Z",
     "shell.execute_reply": "2023-10-01T17:08:30.790068Z",
     "shell.execute_reply.started": "2023-10-01T17:08:30.627046Z"
    }
   },
   "outputs": [],
   "source": [
    "train = pd.read_csv(\"../data/mars-train-regr.csv\")\n",
    "\n",
    "data = train.drop(['Доля сигнала в ВП', 'Фаза Hor', 'Фаза Ver'], axis=1)\n",
    "target = train['Доля сигнала в ВП']"
   ]
  },
  {
   "cell_type": "markdown",
   "metadata": {},
   "source": [
    "## Подбор гиперпараметров для базовых классификаторов"
   ]
  },
  {
   "cell_type": "markdown",
   "metadata": {},
   "source": [
    "### LGBM"
   ]
  },
  {
   "cell_type": "code",
   "execution_count": 3,
   "metadata": {
    "execution": {
     "iopub.execute_input": "2023-10-01T11:54:09.945984Z",
     "iopub.status.busy": "2023-10-01T11:54:09.945546Z",
     "iopub.status.idle": "2023-10-01T11:54:09.960821Z",
     "shell.execute_reply": "2023-10-01T11:54:09.959307Z",
     "shell.execute_reply.started": "2023-10-01T11:54:09.945943Z"
    }
   },
   "outputs": [],
   "source": [
    "def objective(trial,data=data,target=target):\n",
    "    \n",
    "    train_x, test_x, train_y, test_y = train_test_split(data, target, test_size=0.2,random_state=42)\n",
    "    param = {\n",
    "        'metric': 'l2', \n",
    "        'random_state': 48,\n",
    "        'n_estimators': 20000,\n",
    "        'reg_alpha': trial.suggest_loguniform('reg_alpha', 1e-3, 10.0),\n",
    "        'reg_lambda': trial.suggest_loguniform('reg_lambda', 1e-3, 10.0),\n",
    "        'colsample_bytree': trial.suggest_categorical('colsample_bytree', [0.3,0.4,0.5,0.6,0.7,0.8,0.9, 1.0]),\n",
    "        'subsample': trial.suggest_categorical('subsample', [0.4,0.5,0.6,0.7,0.8,1.0]),\n",
    "        'learning_rate': trial.suggest_categorical('learning_rate', [0.006,0.008,0.01,0.014,0.017,0.02]),\n",
    "        'max_depth': trial.suggest_categorical('max_depth', [10,20,100]),\n",
    "        'num_leaves' : trial.suggest_int('num_leaves', 1, 1000),\n",
    "        'min_child_samples': trial.suggest_int('min_child_samples', 1, 300),\n",
    "        'cat_smooth' : trial.suggest_int('min_data_per_groups', 1, 100)\n",
    "    }\n",
    "    \n",
    "    model = LGBMRegressor(**param)  \n",
    "    model.fit(train_x,train_y,eval_set=[(test_x,test_y)],early_stopping_rounds=100,verbose=False)\n",
    "    preds = model.predict(test_x)\n",
    "    score = r2_score(test_y, preds)\n",
    "    \n",
    "    return score"
   ]
  },
  {
   "cell_type": "code",
   "execution_count": 4,
   "metadata": {
    "scrolled": true
   },
   "outputs": [],
   "source": [
    "study = optuna.create_study(direction='maximize')\n",
    "study.optimize(objective, n_trials=333, show_progress_bar=True)"
   ]
  },
  {
   "cell_type": "markdown",
   "metadata": {},
   "source": [
    "Trial 37 finished with value: 0.726211271267521 and parameters:  {'reg_alpha': 0.0016989292739716326, 'reg_lambda': 0.12308815195780395, 'colsample_bytree': 0.7, 'subsample': 1.0, 'learning_rate': 0.017, 'max_depth': 100, 'num_leaves': 998, 'min_child_samples': 1, 'min_data_per_groups': 72}  \n",
    "\n",
    "Best is trial 37 with value: 0.726211271267521."
   ]
  },
  {
   "cell_type": "markdown",
   "metadata": {},
   "source": [
    "### CatBoost"
   ]
  },
  {
   "cell_type": "code",
   "execution_count": 5,
   "metadata": {
    "execution": {
     "iopub.execute_input": "2023-10-01T11:58:57.508708Z",
     "iopub.status.busy": "2023-10-01T11:58:57.508221Z",
     "iopub.status.idle": "2023-10-01T11:58:57.520141Z",
     "shell.execute_reply": "2023-10-01T11:58:57.518593Z",
     "shell.execute_reply.started": "2023-10-01T11:58:57.508675Z"
    }
   },
   "outputs": [],
   "source": [
    "def objective(trial,data=data,target=target):\n",
    "    train_x, test_x, train_y, test_y = train_test_split(data, target, test_size=0.2,random_state=42)\n",
    "    \n",
    "    params = {\n",
    "        \"iterations\": 1000,\n",
    "        \"learning_rate\": trial.suggest_float(\"learning_rate\", 1e-3, 0.1, log=True),\n",
    "        \"depth\": trial.suggest_int(\"depth\", 1, 10),\n",
    "        \"subsample\": trial.suggest_float(\"subsample\", 0.05, 1.0),\n",
    "        \"colsample_bylevel\": trial.suggest_float(\"colsample_bylevel\", 0.05, 1.0),\n",
    "        \"min_data_in_leaf\": trial.suggest_int(\"min_data_in_leaf\", 1, 100),\n",
    "        \"l2_leaf_reg\": trial.suggest_float(\"l2_leaf_reg\", 1e-3, 10, log=True),\n",
    "        \"random_strength\": trial.suggest_float(\"random_strength\", 1e-3, 10, log=True),\n",
    "        \"border_count\": trial.suggest_int(\"border_count\", 1, 255),\n",
    "        \"grow_policy\":trial.suggest_categorical(\"grow_policy\", [\"Lossguide\", \"Depthwise\"])\n",
    "    }\n",
    "\n",
    "    model = cb.CatBoostRegressor(**params, silent=True)\n",
    "    model.fit(train_x,train_y,eval_set=[(test_x,test_y)],early_stopping_rounds=100,verbose=False)\n",
    "    preds = model.predict(test_x)\n",
    "    rmscorese = r2_score(test_y, preds)\n",
    "    \n",
    "    return score"
   ]
  },
  {
   "cell_type": "code",
   "execution_count": 6,
   "metadata": {
    "execution": {
     "iopub.execute_input": "2023-10-01T11:58:57.664888Z",
     "iopub.status.busy": "2023-10-01T11:58:57.664416Z",
     "iopub.status.idle": "2023-10-01T12:34:27.047059Z",
     "shell.execute_reply": "2023-10-01T12:34:27.046052Z",
     "shell.execute_reply.started": "2023-10-01T11:58:57.664851Z"
    }
   },
   "outputs": [],
   "source": [
    "study = optuna.create_study(direction='maximize')\n",
    "study.optimize(objective, n_trials=150, show_pogress_bar=True)"
   ]
  },
  {
   "cell_type": "markdown",
   "metadata": {
    "execution": {
     "iopub.execute_input": "2023-10-01T12:42:42.606377Z",
     "iopub.status.busy": "2023-10-01T12:42:42.605937Z",
     "iopub.status.idle": "2023-10-01T12:42:42.614749Z",
     "shell.execute_reply": "2023-10-01T12:42:42.613573Z",
     "shell.execute_reply.started": "2023-10-01T12:42:42.606347Z"
    }
   },
   "source": [
    "{'learning_rate': 0.0528980351340532,  \n",
    " 'depth': 9,  \n",
    " 'subsample': 0.551594034976896,  \n",
    " 'colsample_bylevel': 0.8850522337727407,  \n",
    " 'min_data_in_leaf': 1,  \n",
    " 'l2_leaf_reg': 0.08640360417488033,  \n",
    " 'random_strength': 0.7384089227664642,  \n",
    " 'border_count': 222,  \n",
    " 'grow_policy': 'Depthwise'}  "
   ]
  },
  {
   "cell_type": "markdown",
   "metadata": {},
   "source": [
    "### xgb"
   ]
  },
  {
   "cell_type": "code",
   "execution_count": 7,
   "metadata": {
    "execution": {
     "iopub.execute_input": "2023-10-01T12:43:42.899571Z",
     "iopub.status.busy": "2023-10-01T12:43:42.898939Z",
     "iopub.status.idle": "2023-10-01T12:43:42.909193Z",
     "shell.execute_reply": "2023-10-01T12:43:42.908222Z",
     "shell.execute_reply.started": "2023-10-01T12:43:42.899531Z"
    }
   },
   "outputs": [],
   "source": [
    "def objective(trial,data=data,target=target):\n",
    "    train_x, test_x, train_y, test_y = train_test_split(data, target, test_size=0.2,random_state=42)\n",
    "    param = {\n",
    "        'max_depth': trial.suggest_int('max_depth', 1, 10),\n",
    "        'learning_rate': trial.suggest_float('learning_rate', 0.01, 1.0),\n",
    "        'n_estimators': trial.suggest_int('n_estimators', 50, 1000),\n",
    "        'min_child_weight': trial.suggest_int('min_child_weight', 1, 10),\n",
    "        'gamma': trial.suggest_float('gamma', 0.01, 1.0),\n",
    "        'subsample': trial.suggest_float('subsample', 0.01, 1.0),\n",
    "        'colsample_bytree': trial.suggest_float('colsample_bytree', 0.01, 1.0),\n",
    "        'reg_alpha': trial.suggest_float('reg_alpha', 0.01, 1.0),\n",
    "        'reg_lambda': trial.suggest_float('reg_lambda', 0.01, 1.0),\n",
    "        'scale_pos_weight': trial.suggest_float('scale_pos_weight', 0.1, 10),\n",
    "        'booster': trial.suggest_categorical('booster', ['gbtree', 'gblinear', 'dart']),\n",
    "        'grow_policy': trial.suggest_categorical('grow_policy', ['depthwise', 'lossguide'])\n",
    "    }\n",
    "    \n",
    "    model = xgboost.XGBRegressor(**param)\n",
    "    model.fit(train_x,train_y,eval_set=[(test_x,test_y)],early_stopping_rounds=100,verbose=False)\n",
    "    preds = model.predict(test_x)\n",
    "    score = r2_score(test_y, preds)\n",
    "    \n",
    "    return score"
   ]
  },
  {
   "cell_type": "code",
   "execution_count": 8,
   "metadata": {
    "execution": {
     "iopub.execute_input": "2023-10-01T12:43:42.970308Z",
     "iopub.status.busy": "2023-10-01T12:43:42.969605Z",
     "iopub.status.idle": "2023-10-01T13:33:06.575375Z",
     "shell.execute_reply": "2023-10-01T13:33:06.574449Z",
     "shell.execute_reply.started": "2023-10-01T12:43:42.970265Z"
    }
   },
   "outputs": [],
   "source": [
    "study = optuna.create_study(direction='maximize')\n",
    "study.optimize(objective, n_trials=150, show_progress_bar=True)"
   ]
  },
  {
   "cell_type": "markdown",
   "metadata": {
    "execution": {
     "iopub.execute_input": "2023-10-01T13:39:11.400957Z",
     "iopub.status.busy": "2023-10-01T13:39:11.399884Z",
     "iopub.status.idle": "2023-10-01T13:39:11.408112Z",
     "shell.execute_reply": "2023-10-01T13:39:11.407074Z",
     "shell.execute_reply.started": "2023-10-01T13:39:11.400916Z"
    }
   },
   "source": [
    "{'max_depth': 8,  \n",
    " 'learning_rate': 0.10313141111769379,  \n",
    " 'n_estimators': 812,  \n",
    " 'min_child_weight': 5,  \n",
    " 'gamma': 0.011317523973762036,  \n",
    " 'subsample': 0.8394922128769058,  \n",
    " 'colsample_bytree': 0.7968044965438489,  \n",
    " 'reg_alpha': 0.5652719437700845,  \n",
    " 'reg_lambda': 0.17657257431955833,  \n",
    " 'scale_pos_weight': 1.7063203107667038,  \n",
    " 'booster': 'gbtree',  \n",
    " 'grow_policy': 'depthwise'}  "
   ]
  },
  {
   "cell_type": "markdown",
   "metadata": {},
   "source": [
    "## Обучение моделей"
   ]
  },
  {
   "cell_type": "code",
   "execution_count": 9,
   "metadata": {},
   "outputs": [],
   "source": [
    "train_x, test_x, train_y, test_y = train_test_split(data, target, test_size=0.1, random_state=42)"
   ]
  },
  {
   "cell_type": "code",
   "execution_count": 10,
   "metadata": {
    "execution": {
     "iopub.execute_input": "2023-10-01T20:34:50.706779Z",
     "iopub.status.busy": "2023-10-01T20:34:50.706351Z",
     "iopub.status.idle": "2023-10-01T20:35:09.541974Z",
     "shell.execute_reply": "2023-10-01T20:35:09.540841Z",
     "shell.execute_reply.started": "2023-10-01T20:34:50.706747Z"
    }
   },
   "outputs": [
    {
     "name": "stdout",
     "output_type": "stream",
     "text": [
      "Random Forest R^2 Score: 0.7345881713066735\n",
      "Extra Trees R^2 Score: 0.7413464130778715\n"
     ]
    }
   ],
   "source": [
    "rf_model = RandomForestRegressor(n_estimators=100, random_state=42)\n",
    "rf_model.fit(train_x, train_y)\n",
    "rf_preds = rf_model.predict(test_x)\n",
    "rf_r2 = r2_score(test_y, rf_preds)\n",
    "print(f'Random Forest R^2 Score: {rf_r2}')\n",
    "\n",
    "et_model = ExtraTreesRegressor(n_estimators=100, random_state=42)\n",
    "et_model.fit(train_x, train_y)\n",
    "et_preds = et_model.predict(test_x)\n",
    "et_r2 = r2_score(test_y, et_preds)\n",
    "print(f'Extra Trees R^2 Score: {et_r2}')"
   ]
  },
  {
   "cell_type": "code",
   "execution_count": 11,
   "metadata": {
    "execution": {
     "iopub.execute_input": "2023-10-01T20:35:09.544918Z",
     "iopub.status.busy": "2023-10-01T20:35:09.543992Z",
     "iopub.status.idle": "2023-10-01T20:35:37.546050Z",
     "shell.execute_reply": "2023-10-01T20:35:37.544701Z",
     "shell.execute_reply.started": "2023-10-01T20:35:09.544878Z"
    }
   },
   "outputs": [
    {
     "name": "stdout",
     "output_type": "stream",
     "text": [
      "Random Forest 2 R^2 Score: 0.6963753869353264\n",
      "Extra Trees 2 R^2 Score: 0.7377258356408415\n"
     ]
    }
   ],
   "source": [
    "rf_model_2 = RandomForestRegressor(n_estimators=200, max_depth=15, min_samples_split=4, random_state=42)\n",
    "rf_model_2.fit(train_x, train_y)\n",
    "rf_preds_2 = rf_model_2.predict(test_x)\n",
    "rf_r2_2 = r2_score(test_y, rf_preds_2)\n",
    "print(f'Random Forest 2 R^2 Score: {rf_r2_2}')\n",
    "\n",
    "et_model_2 = ExtraTreesRegressor(n_estimators=200, max_depth=20, min_samples_split=4, random_state=42)\n",
    "et_model_2.fit(train_x, train_y)\n",
    "et_preds_2 = et_model_2.predict(test_x)\n",
    "et_r2_2 = r2_score(test_y, et_preds_2)\n",
    "print(f'Extra Trees 2 R^2 Score: {et_r2_2}')"
   ]
  },
  {
   "cell_type": "code",
   "execution_count": 12,
   "metadata": {
    "execution": {
     "iopub.execute_input": "2023-10-01T20:38:10.783552Z",
     "iopub.status.busy": "2023-10-01T20:38:10.782874Z",
     "iopub.status.idle": "2023-10-01T20:38:27.650786Z",
     "shell.execute_reply": "2023-10-01T20:38:27.648647Z",
     "shell.execute_reply.started": "2023-10-01T20:38:10.783520Z"
    }
   },
   "outputs": [
    {
     "name": "stdout",
     "output_type": "stream",
     "text": [
      "Fitting 5 folds for each of 108 candidates, totalling 540 fits\n",
      "Best Parameters: {'bootstrap': False, 'bootstrap_features': True, 'max_features': 1.0, 'max_samples': 0.8, 'n_estimators': 100}\n",
      "Best R^2 Score: 0.7462266488924996\n",
      "Test R^2 Score: 0.7485079360433033\n"
     ]
    }
   ],
   "source": [
    "param_grid = {\n",
    "    'n_estimators': [10, 50, 100],\n",
    "    'max_samples': [0.5, 0.8, 1.0],\n",
    "    'max_features': [0.5, 0.8, 1.0],\n",
    "    'bootstrap': [True, False],\n",
    "    'bootstrap_features': [True, False]\n",
    "}\n",
    "\n",
    "grid_search = GridSearchCV(\n",
    "    estimator=BaggingRegressor(base_estimator=DecisionTreeRegressor(), random_state=42),\n",
    "    param_grid=param_grid,\n",
    "    scoring=make_scorer(r2_score),\n",
    "    cv=5,\n",
    "    n_jobs=-1,\n",
    "    verbose=2\n",
    ")\n",
    "\n",
    "grid_search.fit(train_x, train_y)\n",
    "\n",
    "print(f'Best Parameters: {grid_search.best_params_}')\n",
    "print(f'Best R^2 Score: {grid_search.best_score_}')\n",
    "\n",
    "best_bagging_model = grid_search.best_estimator_\n",
    "test_preds = best_bagging_model.predict(test_x)\n",
    "test_r2 = r2_score(test_y, test_preds)\n",
    "print(f'Test R^2 Score: {test_r2}')"
   ]
  },
  {
   "cell_type": "markdown",
   "metadata": {
    "execution": {
     "iopub.status.busy": "2023-10-01T20:38:08.642932Z",
     "iopub.status.idle": "2023-10-01T20:38:08.643231Z",
     "shell.execute_reply": "2023-10-01T20:38:08.643099Z",
     "shell.execute_reply.started": "2023-10-01T20:38:08.643085Z"
    }
   },
   "source": [
    "{'bootstrap': False,  \n",
    "'bootstrap_features': True,  \n",
    "'max_features': 1.0,  \n",
    "'max_samples': 0.8,  \n",
    "'n_estimators': 100}"
   ]
  },
  {
   "cell_type": "code",
   "execution_count": 13,
   "metadata": {
    "execution": {
     "iopub.execute_input": "2023-10-01T20:42:20.031095Z",
     "iopub.status.busy": "2023-10-01T20:42:20.030689Z",
     "iopub.status.idle": "2023-10-01T20:42:38.981719Z",
     "shell.execute_reply": "2023-10-01T20:42:38.981047Z",
     "shell.execute_reply.started": "2023-10-01T20:42:20.031054Z"
    }
   },
   "outputs": [
    {
     "name": "stdout",
     "output_type": "stream",
     "text": [
      "Test R^2 Score: 0.7485079360433033\n"
     ]
    }
   ],
   "source": [
    "best_bagging_model = BaggingRegressor(\n",
    "    base_estimator=DecisionTreeRegressor(),\n",
    "    random_state=42,\n",
    "    bootstrap=False,\n",
    "    bootstrap_features=True,\n",
    "    max_features=1.0,\n",
    "    max_samples=0.8,\n",
    "    n_estimators=100\n",
    ")\n",
    "\n",
    "best_bagging_model.fit(train_x, train_y)\n",
    "test_preds = best_bagging_model.predict(test_x)\n",
    "test_r2 = r2_score(test_y, test_preds)\n",
    "print(f'Test R^2 Score: {test_r2}')"
   ]
  },
  {
   "cell_type": "code",
   "execution_count": 14,
   "metadata": {
    "execution": {
     "iopub.execute_input": "2023-10-01T20:42:41.755450Z",
     "iopub.status.busy": "2023-10-01T20:42:41.754468Z",
     "iopub.status.idle": "2023-10-01T20:42:42.090454Z",
     "shell.execute_reply": "2023-10-01T20:42:42.089659Z",
     "shell.execute_reply.started": "2023-10-01T20:42:41.755417Z"
    }
   },
   "outputs": [
    {
     "data": {
      "text/plain": [
       "0.73877049801193"
      ]
     },
     "execution_count": 14,
     "metadata": {},
     "output_type": "execute_result"
    }
   ],
   "source": [
    "bag_ext = BaggingRegressor(base_estimator=ExtraTreesRegressor(),random_state=5432)\n",
    "bag_ext.fit(train_x, train_y)\n",
    "\n",
    "r2_score(test_y, bag_ext.predict(test_x))"
   ]
  },
  {
   "cell_type": "code",
   "execution_count": 16,
   "metadata": {
    "execution": {
     "iopub.execute_input": "2023-10-01T20:42:43.259136Z",
     "iopub.status.busy": "2023-10-01T20:42:43.258099Z",
     "iopub.status.idle": "2023-10-01T20:44:07.259899Z",
     "shell.execute_reply": "2023-10-01T20:44:07.259048Z",
     "shell.execute_reply.started": "2023-10-01T20:42:43.259103Z"
    }
   },
   "outputs": [
    {
     "data": {
      "text/plain": [
       "0.724217420411354"
      ]
     },
     "execution_count": 16,
     "metadata": {},
     "output_type": "execute_result"
    }
   ],
   "source": [
    "bag_rf = BaggingRegressor(\n",
    "    base_estimator=RandomForestRegressor(n_estimators=100, random_state=42),\n",
    "    random_state=5432\n",
    ")\n",
    "bag_rf.fit(train_x, train_y)\n",
    "\n",
    "r2_score(test_y, bag_rf.predict(test_x))"
   ]
  },
  {
   "cell_type": "code",
   "execution_count": 17,
   "metadata": {
    "execution": {
     "iopub.execute_input": "2023-10-01T20:44:07.262168Z",
     "iopub.status.busy": "2023-10-01T20:44:07.261316Z",
     "iopub.status.idle": "2023-10-01T20:44:37.841926Z",
     "shell.execute_reply": "2023-10-01T20:44:37.840637Z",
     "shell.execute_reply.started": "2023-10-01T20:44:07.262137Z"
    }
   },
   "outputs": [
    {
     "data": {
      "text/plain": [
       "0.73877049801193"
      ]
     },
     "execution_count": 17,
     "metadata": {},
     "output_type": "execute_result"
    }
   ],
   "source": [
    "bag_grid = BaggingRegressor(ExtraTreesRegressor(),random_state=5432)\n",
    "bag_grid.fit(train_x, train_y)\n",
    "\n",
    "r2_score(test_y, bag_grid.predict(test_x))"
   ]
  },
  {
   "cell_type": "code",
   "execution_count": 18,
   "metadata": {
    "execution": {
     "iopub.execute_input": "2023-10-01T20:44:41.204337Z",
     "iopub.status.busy": "2023-10-01T20:44:41.203966Z",
     "iopub.status.idle": "2023-10-01T20:46:14.663136Z",
     "shell.execute_reply": "2023-10-01T20:46:14.661804Z",
     "shell.execute_reply.started": "2023-10-01T20:44:41.204310Z"
    }
   },
   "outputs": [
    {
     "name": "stdout",
     "output_type": "stream",
     "text": [
      "Extra Trees R^2 Score: 0.7371878268423608\n"
     ]
    }
   ],
   "source": [
    "np.random.seed(5432)\n",
    "\n",
    "vot_reg = VotingRegressor(\n",
    "        estimators=[\n",
    "            (\"dt\", DecisionTreeRegressor(random_state=5432)),\n",
    "            (\"ex_dt\", ExtraTreesRegressor(random_state=5432)),\n",
    "            (\"rf\", RandomForestRegressor(random_state=5432)),\n",
    "            (\"cb\", cb.CatBoostRegressor(\n",
    "                learning_rate = 0.0528980351340532,\n",
    "                depth = 9, # 9 nest\n",
    "                subsample = 0.551594034976896,\n",
    "                colsample_bylevel = 0.8850522337727407,\n",
    "                min_data_in_leaf = 1,\n",
    "                l2_leaf_reg = 0.08640360417488033,\n",
    "                random_strength = 0.7384089227664642,\n",
    "                border_count = 222,\n",
    "                grow_policy = 'Depthwise')),\n",
    "            (\"xgb\", xgboost.XGBRegressor(max_depth = 8,\n",
    "                learning_rate = 0.10313141111769379,\n",
    "                n_estimators = 812, # 812 best\n",
    "                min_child_weight = 5,\n",
    "                gamma = 0.011317523973762036,\n",
    "                subsample = 0.8394922128769058,\n",
    "                colsample_bytree = 0.7968044965438489,\n",
    "                reg_alpha = 0.5652719437700845,\n",
    "                reg_lambda = 0.17657257431955833,\n",
    "                scale_pos_weight = 1.7063203107667038,\n",
    "                booster = 'gbtree',\n",
    "                grow_policy = 'depthwise')),\n",
    "            (\"lgbm\", LGBMRegressor(reg_alpha = 0.0016989292739716326, \n",
    "                           reg_lambda = 0.12308815195780395, \n",
    "                           colsample_bytree = 0.7, \n",
    "                           subsample = 1.0, \n",
    "                           learning_rate = 0.017, \n",
    "                           max_depth = 100, \n",
    "                           num_leaves = 998, \n",
    "                           min_child_samples = 1, \n",
    "                           min_data_per_groups = 72\n",
    "                          ))\n",
    "            \n",
    "        ],\n",
    "        n_jobs=-1,\n",
    "        verbose=1\n",
    "    )\n",
    "\n",
    "vot_reg.fit(train_x, train_y)\n",
    "\n",
    "vot_reg_r2 = r2_score(test_y, vot_reg.predict(test_x))\n",
    "print(f'Extra Trees R^2 Score: {vot_reg_r2}')"
   ]
  },
  {
   "cell_type": "code",
   "execution_count": 19,
   "metadata": {
    "execution": {
     "iopub.execute_input": "2023-10-01T20:46:14.665731Z",
     "iopub.status.busy": "2023-10-01T20:46:14.665399Z",
     "iopub.status.idle": "2023-10-01T20:46:14.676885Z",
     "shell.execute_reply": "2023-10-01T20:46:14.675522Z",
     "shell.execute_reply.started": "2023-10-01T20:46:14.665702Z"
    }
   },
   "outputs": [],
   "source": [
    "lgbm_model = LGBMRegressor(\n",
    "    reg_alpha = 0.0016989292739716326, \n",
    "    reg_lambda = 0.12308815195780395, \n",
    "    colsample_bytree = 0.7, \n",
    "    subsample = 1.0, \n",
    "    learning_rate = 0.017, \n",
    "    max_depth = 100, \n",
    "    num_leaves = 998, \n",
    "    min_child_samples = 1, \n",
    "    min_data_per_groups = 72\n",
    ")\n",
    "\n",
    "\n",
    "catboost_model = cb.CatBoostRegressor(\n",
    "    learning_rate = 0.0528980351340532,\n",
    "    depth = 9,\n",
    "    subsample = 0.551594034976896,\n",
    "    colsample_bylevel = 0.8850522337727407,\n",
    "    min_data_in_leaf = 1,\n",
    "    l2_leaf_reg = 0.08640360417488033,\n",
    "    random_strength = 0.7384089227664642,\n",
    "    border_count = 222,\n",
    "    grow_policy = 'Depthwise'\n",
    ")\n",
    "\n",
    "xgb_model = xgboost.XGBRegressor(\n",
    "    max_depth = 8,\n",
    "    learning_rate = 0.10313141111769379,\n",
    "    n_estimators = 812,\n",
    "    min_child_weight = 5,\n",
    "    gamma = 0.011317523973762036,\n",
    "    subsample = 0.8394922128769058,\n",
    "    colsample_bytree = 0.7968044965438489,\n",
    "    reg_alpha = 0.5652719437700845,\n",
    "    reg_lambda = 0.17657257431955833,\n",
    "    scale_pos_weight = 1.7063203107667038,\n",
    "    booster = 'gbtree',\n",
    "    grow_policy = 'depthwise'\n",
    ")"
   ]
  },
  {
   "cell_type": "code",
   "execution_count": 20,
   "metadata": {},
   "outputs": [],
   "source": [
    "X_train, X_val, y_train, y_val = train_test_split(data, target, test_size=0.1, random_state=42)"
   ]
  },
  {
   "cell_type": "code",
   "execution_count": 21,
   "metadata": {
    "execution": {
     "iopub.execute_input": "2023-10-01T20:46:37.325426Z",
     "iopub.status.busy": "2023-10-01T20:46:37.324987Z",
     "iopub.status.idle": "2023-10-01T20:47:00.004337Z",
     "shell.execute_reply": "2023-10-01T20:47:00.002888Z",
     "shell.execute_reply.started": "2023-10-01T20:46:37.325393Z"
    }
   },
   "outputs": [
    {
     "name": "stdout",
     "output_type": "stream",
     "text": [
      "[LightGBM] [Warning] Unknown parameter: min_data_per_groups\n"
     ]
    },
    {
     "data": {
      "text/plain": [
       "0.6943370984086179"
      ]
     },
     "execution_count": 21,
     "metadata": {},
     "output_type": "execute_result"
    }
   ],
   "source": [
    "lgbm_model.fit(X_train, y_train)\n",
    "\n",
    "r2_score(y_val, lgbm_model.predict(X_val))"
   ]
  },
  {
   "cell_type": "code",
   "execution_count": 22,
   "metadata": {
    "execution": {
     "iopub.execute_input": "2023-10-01T20:47:00.049891Z",
     "iopub.status.busy": "2023-10-01T20:47:00.048332Z",
     "iopub.status.idle": "2023-10-01T20:47:28.592461Z",
     "shell.execute_reply": "2023-10-01T20:47:28.591127Z",
     "shell.execute_reply.started": "2023-10-01T20:47:00.049841Z"
    }
   },
   "outputs": [
    {
     "data": {
      "text/plain": [
       "0.7354686736948759"
      ]
     },
     "execution_count": 22,
     "metadata": {},
     "output_type": "execute_result"
    }
   ],
   "source": [
    "catboost_model.fit(X_train, y_train, silent=True)\n",
    "\n",
    "r2_score(y_val, catboost_model.predict(X_val))"
   ]
  },
  {
   "cell_type": "code",
   "execution_count": 23,
   "metadata": {
    "execution": {
     "iopub.execute_input": "2023-10-01T20:47:28.693091Z",
     "iopub.status.busy": "2023-10-01T20:47:28.692113Z",
     "iopub.status.idle": "2023-10-01T20:47:54.572422Z",
     "shell.execute_reply": "2023-10-01T20:47:54.571120Z",
     "shell.execute_reply.started": "2023-10-01T20:47:28.693059Z"
    }
   },
   "outputs": [
    {
     "data": {
      "text/plain": [
       "0.7255611845952585"
      ]
     },
     "execution_count": 23,
     "metadata": {},
     "output_type": "execute_result"
    }
   ],
   "source": [
    "xgb_model.fit(X_train, y_train)\n",
    "\n",
    "r2_score(y_val, xgb_model.predict(X_val))"
   ]
  },
  {
   "cell_type": "code",
   "execution_count": 24,
   "metadata": {
    "execution": {
     "iopub.execute_input": "2023-10-01T20:53:08.135340Z",
     "iopub.status.busy": "2023-10-01T20:53:08.134981Z",
     "iopub.status.idle": "2023-10-01T20:53:11.608633Z",
     "shell.execute_reply": "2023-10-01T20:53:11.604984Z",
     "shell.execute_reply.started": "2023-10-01T20:53:08.135312Z"
    }
   },
   "outputs": [
    {
     "name": "stdout",
     "output_type": "stream",
     "text": [
      "R^2 Score for Blended Model on Validation Set: 53.39263177710193\n"
     ]
    }
   ],
   "source": [
    "catboost_preds = catboost_model.predict(X_val)\n",
    "lgbm_preds = lgbm_model.predict(X_val)\n",
    "xgb_preds = xgb_model.predict(X_val)\n",
    "rf_preds = rf_model.predict(X_val)\n",
    "et_preds = et_model.predict(X_val)\n",
    "\n",
    "breg_preds = best_bagging_model.predict(X_val)\n",
    "vot_preds = vot_reg.predict(X_val)\n",
    "\n",
    "bag_ext_preds = bag_ext.predict(X_val)\n",
    "bag_rf_preds = bag_rf.predict(X_val)\n",
    "\n",
    "rf_2_preds = rf_model_2.predict(X_val)\n",
    "et_2_preds = et_model_2.predict(X_val)\n",
    "\n",
    "X_meta = np.column_stack(\n",
    "    (\n",
    "        catboost_preds,\n",
    "        lgbm_preds,\n",
    "        xgb_preds,\n",
    "        rf_preds,\n",
    "        et_preds,\n",
    "        breg_preds,\n",
    "        vot_preds,\n",
    "        bag_ext_preds,\n",
    "        bag_rf_preds,\n",
    "        rf_2_preds,\n",
    "        et_2_preds\n",
    "    )\n",
    ")\n",
    "\n",
    "meta_model = LinearRegression()\n",
    "meta_model.fit(X_meta, y_val)\n",
    "\n",
    "meta_preds = meta_model.predict(X_meta)\n",
    "\n",
    "r2 = r2_score(y_val, meta_preds)\n",
    "print(f\"R^2 Score for Blended Model on Validation Set: {70 * r2}\")"
   ]
  },
  {
   "cell_type": "markdown",
   "metadata": {},
   "source": [
    "## Сохраним веса моделей"
   ]
  },
  {
   "cell_type": "code",
   "execution_count": 25,
   "metadata": {},
   "outputs": [],
   "source": [
    "models = [\n",
    "    (\"cb\", catboost_model),\n",
    "    (\"lgbm\", lgbm_model),\n",
    "    (\"xgb\", xgb_model),\n",
    "    (\"rf\", rf_model),\n",
    "    (\"et\", et_model),\n",
    "    (\"best_bagging_model\", best_bagging_model),\n",
    "    (\"vot_reg\", vot_reg),\n",
    "    (\"bag_ext\", bag_ext),\n",
    "    (\"bag_rf\", bag_rf),\n",
    "    (\"rf2\", rf_model_2),\n",
    "    (\"et2\", et_model_2),\n",
    "    (\"meta_lr\", meta_model)\n",
    "]\n",
    "\n",
    "for item in models:\n",
    "    with open(f\"../models/{item[0]}.pkl\", \"wb\") as file:\n",
    "        pickle.dump(item[1], file)"
   ]
  },
  {
   "cell_type": "markdown",
   "metadata": {},
   "source": [
    "---"
   ]
  }
 ],
 "metadata": {
  "kernelspec": {
   "display_name": "Python 3 (ipykernel)",
   "language": "python",
   "name": "python3"
  },
  "language_info": {
   "codemirror_mode": {
    "name": "ipython",
    "version": 3
   },
   "file_extension": ".py",
   "mimetype": "text/x-python",
   "name": "python",
   "nbconvert_exporter": "python",
   "pygments_lexer": "ipython3",
   "version": "3.9.13"
  },
  "varInspector": {
   "cols": {
    "lenName": 16,
    "lenType": 16,
    "lenVar": 40
   },
   "kernels_config": {
    "python": {
     "delete_cmd_postfix": "",
     "delete_cmd_prefix": "del ",
     "library": "var_list.py",
     "varRefreshCmd": "print(var_dic_list())"
    },
    "r": {
     "delete_cmd_postfix": ") ",
     "delete_cmd_prefix": "rm(",
     "library": "var_list.r",
     "varRefreshCmd": "cat(var_dic_list()) "
    }
   },
   "types_to_exclude": [
    "module",
    "function",
    "builtin_function_or_method",
    "instance",
    "_Feature"
   ],
   "window_display": false
  }
 },
 "nbformat": 4,
 "nbformat_minor": 4
}
