{
 "cells": [
  {
   "cell_type": "markdown",
   "id": "750e804e",
   "metadata": {},
   "source": [
    "## Импорт необходимого функционала"
   ]
  },
  {
   "cell_type": "code",
   "execution_count": 1,
   "id": "a4411011",
   "metadata": {},
   "outputs": [],
   "source": [
    "import os\n",
    "import pickle\n",
    "import numpy as np\n",
    "import pandas as pd"
   ]
  },
  {
   "cell_type": "markdown",
   "id": "003fbc98",
   "metadata": {},
   "source": [
    "## Загрузка данных и сохранённых весов классификаторов"
   ]
  },
  {
   "cell_type": "code",
   "execution_count": 2,
   "id": "6b76f18d",
   "metadata": {},
   "outputs": [],
   "source": [
    "test = pd.read_csv(\"data/mars-private_test-class.csv\")\n",
    "\n",
    "list_models = os.listdir(\"models/\")\n",
    "all_models = {1: [], 2: [], 3: []}\n",
    "\n",
    "for model_path in list_models:\n",
    "    with open(f\"models/{model_path}\", \"rb\") as file:\n",
    "        model = pickle.load(file)\n",
    "    prefix = int(model_path[0])\n",
    "    all_models[prefix].append(model)\n",
    "    \n",
    "del list_models"
   ]
  },
  {
   "cell_type": "markdown",
   "id": "924a37fe",
   "metadata": {},
   "source": [
    "## Предсказание на тесте"
   ]
  },
  {
   "cell_type": "code",
   "execution_count": 3,
   "id": "3042dd42",
   "metadata": {},
   "outputs": [],
   "source": [
    "np.random.seed(5432)\n",
    "\n",
    "test[\"Тип марсианина\"] = -1\n",
    "for i in range(1, 4):\n",
    "    estimators = all_models[i]\n",
    "    test_trial = test[test[\"№ испытания\"].values == i].drop([\"Тип марсианина\", \"№ испытания\",], axis=1)\n",
    "    idx = test_trial.index\n",
    "    trial_preds = np.empty((test_trial.shape[0], len(estimators)))\n",
    "    for i, estimator in enumerate(estimators):\n",
    "        trial_preds[:, i] = estimator.predict(test_trial)\n",
    "    test.loc[idx, \"Тип марсианина\"] = pd.DataFrame(trial_preds).mode(axis=1).values.ravel()\n",
    "    \n",
    "assert not(-1 in test[\"Тип марсианина\"].unique())"
   ]
  },
  {
   "cell_type": "code",
   "execution_count": 4,
   "id": "77fddf48",
   "metadata": {},
   "outputs": [
    {
     "data": {
      "text/plain": [
       "1    0.900196\n",
       "0    0.099804\n",
       "Name: Тип марсианина, dtype: float64"
      ]
     },
     "execution_count": 4,
     "metadata": {},
     "output_type": "execute_result"
    }
   ],
   "source": [
    "test[\"Тип марсианина\"].value_counts() / test.shape[0]"
   ]
  },
  {
   "cell_type": "code",
   "execution_count": 5,
   "id": "817d2441",
   "metadata": {},
   "outputs": [],
   "source": [
    "test.to_csv(\"solution_class.csv\", index=False)"
   ]
  },
  {
   "cell_type": "markdown",
   "id": "359e096e",
   "metadata": {},
   "source": [
    "---"
   ]
  }
 ],
 "metadata": {
  "kernelspec": {
   "display_name": "Python 3 (ipykernel)",
   "language": "python",
   "name": "python3"
  },
  "language_info": {
   "codemirror_mode": {
    "name": "ipython",
    "version": 3
   },
   "file_extension": ".py",
   "mimetype": "text/x-python",
   "name": "python",
   "nbconvert_exporter": "python",
   "pygments_lexer": "ipython3",
   "version": "3.9.13"
  },
  "varInspector": {
   "cols": {
    "lenName": 16,
    "lenType": 16,
    "lenVar": 40
   },
   "kernels_config": {
    "python": {
     "delete_cmd_postfix": "",
     "delete_cmd_prefix": "del ",
     "library": "var_list.py",
     "varRefreshCmd": "print(var_dic_list())"
    },
    "r": {
     "delete_cmd_postfix": ") ",
     "delete_cmd_prefix": "rm(",
     "library": "var_list.r",
     "varRefreshCmd": "cat(var_dic_list()) "
    }
   },
   "types_to_exclude": [
    "module",
    "function",
    "builtin_function_or_method",
    "instance",
    "_Feature"
   ],
   "window_display": false
  }
 },
 "nbformat": 4,
 "nbformat_minor": 5
}
