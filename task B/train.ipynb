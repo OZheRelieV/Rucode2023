{
 "cells": [
  {
   "cell_type": "markdown",
   "id": "d92c72e7",
   "metadata": {},
   "source": [
    "## Импорт необходимого функционала"
   ]
  },
  {
   "cell_type": "code",
   "execution_count": 1,
   "id": "79ab2f50",
   "metadata": {},
   "outputs": [],
   "source": [
    "import pickle\n",
    "import numpy as np\n",
    "import pandas as pd\n",
    "from tqdm import notebook\n",
    "from sklearn.metrics import f1_score\n",
    "from catboost import CatBoostClassifier\n",
    "from xgboost import XGBClassifier\n",
    "from sklearn.model_selection import StratifiedKFold\n",
    "from sklearn.ensemble import VotingClassifier"
   ]
  },
  {
   "cell_type": "markdown",
   "id": "f7c6a972",
   "metadata": {},
   "source": [
    "## Загрузка данных"
   ]
  },
  {
   "cell_type": "code",
   "execution_count": 2,
   "id": "4742fcf4",
   "metadata": {},
   "outputs": [
    {
     "data": {
      "text/plain": [
       "((11915, 13), 0)"
      ]
     },
     "execution_count": 2,
     "metadata": {},
     "output_type": "execute_result"
    }
   ],
   "source": [
    "train = pd.read_csv(\"data/mars-train-class.csv\")\n",
    "train.shape, train.isna().sum().sum()"
   ]
  },
  {
   "cell_type": "code",
   "execution_count": 3,
   "id": "1e480e7c",
   "metadata": {},
   "outputs": [
    {
     "data": {
      "text/html": [
       "<div>\n",
       "<style scoped>\n",
       "    .dataframe tbody tr th:only-of-type {\n",
       "        vertical-align: middle;\n",
       "    }\n",
       "\n",
       "    .dataframe tbody tr th {\n",
       "        vertical-align: top;\n",
       "    }\n",
       "\n",
       "    .dataframe thead th {\n",
       "        text-align: right;\n",
       "    }\n",
       "</style>\n",
       "<table border=\"1\" class=\"dataframe\">\n",
       "  <thead>\n",
       "    <tr style=\"text-align: right;\">\n",
       "      <th></th>\n",
       "      <th>№ испытания</th>\n",
       "      <th>Модуль сигнала</th>\n",
       "      <th>Тип_измерения</th>\n",
       "      <th>Количество импульсов</th>\n",
       "      <th>Фаза Hor</th>\n",
       "      <th>Фаза Ver</th>\n",
       "      <th>Уровень шума</th>\n",
       "      <th>Азимут</th>\n",
       "      <th>У.М.</th>\n",
       "      <th>Секунда</th>\n",
       "      <th>Дальность (м)</th>\n",
       "      <th>Доля сигнала в ВП</th>\n",
       "      <th>Тип марсианина</th>\n",
       "    </tr>\n",
       "  </thead>\n",
       "  <tbody>\n",
       "    <tr>\n",
       "      <th>№ испытания</th>\n",
       "      <td>1.000000</td>\n",
       "      <td>-0.025020</td>\n",
       "      <td>-0.017452</td>\n",
       "      <td>-0.020188</td>\n",
       "      <td>0.002079</td>\n",
       "      <td>-0.008238</td>\n",
       "      <td>-0.130296</td>\n",
       "      <td>-0.116182</td>\n",
       "      <td>0.141618</td>\n",
       "      <td>0.998006</td>\n",
       "      <td>0.038307</td>\n",
       "      <td>0.124126</td>\n",
       "      <td>-0.169779</td>\n",
       "    </tr>\n",
       "    <tr>\n",
       "      <th>Модуль сигнала</th>\n",
       "      <td>-0.025020</td>\n",
       "      <td>1.000000</td>\n",
       "      <td>-0.000286</td>\n",
       "      <td>-0.028387</td>\n",
       "      <td>-0.006970</td>\n",
       "      <td>0.002894</td>\n",
       "      <td>0.778850</td>\n",
       "      <td>-0.122965</td>\n",
       "      <td>0.378563</td>\n",
       "      <td>-0.023539</td>\n",
       "      <td>-0.337502</td>\n",
       "      <td>0.097808</td>\n",
       "      <td>0.021580</td>\n",
       "    </tr>\n",
       "    <tr>\n",
       "      <th>Тип_измерения</th>\n",
       "      <td>-0.017452</td>\n",
       "      <td>-0.000286</td>\n",
       "      <td>1.000000</td>\n",
       "      <td>-0.797615</td>\n",
       "      <td>-0.192059</td>\n",
       "      <td>-0.194575</td>\n",
       "      <td>-0.238472</td>\n",
       "      <td>-0.038155</td>\n",
       "      <td>0.128842</td>\n",
       "      <td>-0.030021</td>\n",
       "      <td>-0.131973</td>\n",
       "      <td>-0.038494</td>\n",
       "      <td>0.019426</td>\n",
       "    </tr>\n",
       "    <tr>\n",
       "      <th>Количество импульсов</th>\n",
       "      <td>-0.020188</td>\n",
       "      <td>-0.028387</td>\n",
       "      <td>-0.797615</td>\n",
       "      <td>1.000000</td>\n",
       "      <td>0.159007</td>\n",
       "      <td>0.156408</td>\n",
       "      <td>0.259612</td>\n",
       "      <td>0.028902</td>\n",
       "      <td>-0.121065</td>\n",
       "      <td>-0.010993</td>\n",
       "      <td>0.015410</td>\n",
       "      <td>0.022666</td>\n",
       "      <td>0.123542</td>\n",
       "    </tr>\n",
       "    <tr>\n",
       "      <th>Фаза Hor</th>\n",
       "      <td>0.002079</td>\n",
       "      <td>-0.006970</td>\n",
       "      <td>-0.192059</td>\n",
       "      <td>0.159007</td>\n",
       "      <td>1.000000</td>\n",
       "      <td>0.166253</td>\n",
       "      <td>0.040993</td>\n",
       "      <td>0.011824</td>\n",
       "      <td>-0.040392</td>\n",
       "      <td>0.005382</td>\n",
       "      <td>0.025235</td>\n",
       "      <td>-0.002086</td>\n",
       "      <td>0.003897</td>\n",
       "    </tr>\n",
       "    <tr>\n",
       "      <th>Фаза Ver</th>\n",
       "      <td>-0.008238</td>\n",
       "      <td>0.002894</td>\n",
       "      <td>-0.194575</td>\n",
       "      <td>0.156408</td>\n",
       "      <td>0.166253</td>\n",
       "      <td>1.000000</td>\n",
       "      <td>0.046959</td>\n",
       "      <td>0.022025</td>\n",
       "      <td>-0.027857</td>\n",
       "      <td>-0.004896</td>\n",
       "      <td>0.023368</td>\n",
       "      <td>0.015075</td>\n",
       "      <td>0.002198</td>\n",
       "    </tr>\n",
       "    <tr>\n",
       "      <th>Уровень шума</th>\n",
       "      <td>-0.130296</td>\n",
       "      <td>0.778850</td>\n",
       "      <td>-0.238472</td>\n",
       "      <td>0.259612</td>\n",
       "      <td>0.040993</td>\n",
       "      <td>0.046959</td>\n",
       "      <td>1.000000</td>\n",
       "      <td>-0.103142</td>\n",
       "      <td>0.151747</td>\n",
       "      <td>-0.125473</td>\n",
       "      <td>-0.139898</td>\n",
       "      <td>0.049155</td>\n",
       "      <td>0.042167</td>\n",
       "    </tr>\n",
       "    <tr>\n",
       "      <th>Азимут</th>\n",
       "      <td>-0.116182</td>\n",
       "      <td>-0.122965</td>\n",
       "      <td>-0.038155</td>\n",
       "      <td>0.028902</td>\n",
       "      <td>0.011824</td>\n",
       "      <td>0.022025</td>\n",
       "      <td>-0.103142</td>\n",
       "      <td>1.000000</td>\n",
       "      <td>-0.351181</td>\n",
       "      <td>-0.115784</td>\n",
       "      <td>0.298235</td>\n",
       "      <td>-0.048005</td>\n",
       "      <td>0.023581</td>\n",
       "    </tr>\n",
       "    <tr>\n",
       "      <th>У.М.</th>\n",
       "      <td>0.141618</td>\n",
       "      <td>0.378563</td>\n",
       "      <td>0.128842</td>\n",
       "      <td>-0.121065</td>\n",
       "      <td>-0.040392</td>\n",
       "      <td>-0.027857</td>\n",
       "      <td>0.151747</td>\n",
       "      <td>-0.351181</td>\n",
       "      <td>1.000000</td>\n",
       "      <td>0.136634</td>\n",
       "      <td>-0.664329</td>\n",
       "      <td>0.030407</td>\n",
       "      <td>0.049693</td>\n",
       "    </tr>\n",
       "    <tr>\n",
       "      <th>Секунда</th>\n",
       "      <td>0.998006</td>\n",
       "      <td>-0.023539</td>\n",
       "      <td>-0.030021</td>\n",
       "      <td>-0.010993</td>\n",
       "      <td>0.005382</td>\n",
       "      <td>-0.004896</td>\n",
       "      <td>-0.125473</td>\n",
       "      <td>-0.115784</td>\n",
       "      <td>0.136634</td>\n",
       "      <td>1.000000</td>\n",
       "      <td>0.039631</td>\n",
       "      <td>0.129095</td>\n",
       "      <td>-0.173169</td>\n",
       "    </tr>\n",
       "    <tr>\n",
       "      <th>Дальность (м)</th>\n",
       "      <td>0.038307</td>\n",
       "      <td>-0.337502</td>\n",
       "      <td>-0.131973</td>\n",
       "      <td>0.015410</td>\n",
       "      <td>0.025235</td>\n",
       "      <td>0.023368</td>\n",
       "      <td>-0.139898</td>\n",
       "      <td>0.298235</td>\n",
       "      <td>-0.664329</td>\n",
       "      <td>0.039631</td>\n",
       "      <td>1.000000</td>\n",
       "      <td>0.022388</td>\n",
       "      <td>-0.530897</td>\n",
       "    </tr>\n",
       "    <tr>\n",
       "      <th>Доля сигнала в ВП</th>\n",
       "      <td>0.124126</td>\n",
       "      <td>0.097808</td>\n",
       "      <td>-0.038494</td>\n",
       "      <td>0.022666</td>\n",
       "      <td>-0.002086</td>\n",
       "      <td>0.015075</td>\n",
       "      <td>0.049155</td>\n",
       "      <td>-0.048005</td>\n",
       "      <td>0.030407</td>\n",
       "      <td>0.129095</td>\n",
       "      <td>0.022388</td>\n",
       "      <td>1.000000</td>\n",
       "      <td>-0.044167</td>\n",
       "    </tr>\n",
       "    <tr>\n",
       "      <th>Тип марсианина</th>\n",
       "      <td>-0.169779</td>\n",
       "      <td>0.021580</td>\n",
       "      <td>0.019426</td>\n",
       "      <td>0.123542</td>\n",
       "      <td>0.003897</td>\n",
       "      <td>0.002198</td>\n",
       "      <td>0.042167</td>\n",
       "      <td>0.023581</td>\n",
       "      <td>0.049693</td>\n",
       "      <td>-0.173169</td>\n",
       "      <td>-0.530897</td>\n",
       "      <td>-0.044167</td>\n",
       "      <td>1.000000</td>\n",
       "    </tr>\n",
       "  </tbody>\n",
       "</table>\n",
       "</div>"
      ],
      "text/plain": [
       "                      № испытания  Модуль сигнала  Тип_измерения  \\\n",
       "№ испытания              1.000000       -0.025020      -0.017452   \n",
       "Модуль сигнала          -0.025020        1.000000      -0.000286   \n",
       "Тип_измерения           -0.017452       -0.000286       1.000000   \n",
       "Количество импульсов    -0.020188       -0.028387      -0.797615   \n",
       "Фаза Hor                 0.002079       -0.006970      -0.192059   \n",
       "Фаза Ver                -0.008238        0.002894      -0.194575   \n",
       "Уровень шума            -0.130296        0.778850      -0.238472   \n",
       "Азимут                  -0.116182       -0.122965      -0.038155   \n",
       "У.М.                     0.141618        0.378563       0.128842   \n",
       "Секунда                  0.998006       -0.023539      -0.030021   \n",
       "Дальность (м)            0.038307       -0.337502      -0.131973   \n",
       "Доля сигнала в ВП        0.124126        0.097808      -0.038494   \n",
       "Тип марсианина          -0.169779        0.021580       0.019426   \n",
       "\n",
       "                      Количество импульсов  Фаза Hor  Фаза Ver  Уровень шума  \\\n",
       "№ испытания                      -0.020188  0.002079 -0.008238     -0.130296   \n",
       "Модуль сигнала                   -0.028387 -0.006970  0.002894      0.778850   \n",
       "Тип_измерения                    -0.797615 -0.192059 -0.194575     -0.238472   \n",
       "Количество импульсов              1.000000  0.159007  0.156408      0.259612   \n",
       "Фаза Hor                          0.159007  1.000000  0.166253      0.040993   \n",
       "Фаза Ver                          0.156408  0.166253  1.000000      0.046959   \n",
       "Уровень шума                      0.259612  0.040993  0.046959      1.000000   \n",
       "Азимут                            0.028902  0.011824  0.022025     -0.103142   \n",
       "У.М.                             -0.121065 -0.040392 -0.027857      0.151747   \n",
       "Секунда                          -0.010993  0.005382 -0.004896     -0.125473   \n",
       "Дальность (м)                     0.015410  0.025235  0.023368     -0.139898   \n",
       "Доля сигнала в ВП                 0.022666 -0.002086  0.015075      0.049155   \n",
       "Тип марсианина                    0.123542  0.003897  0.002198      0.042167   \n",
       "\n",
       "                        Азимут      У.М.   Секунда  Дальность (м)  \\\n",
       "№ испытания          -0.116182  0.141618  0.998006       0.038307   \n",
       "Модуль сигнала       -0.122965  0.378563 -0.023539      -0.337502   \n",
       "Тип_измерения        -0.038155  0.128842 -0.030021      -0.131973   \n",
       "Количество импульсов  0.028902 -0.121065 -0.010993       0.015410   \n",
       "Фаза Hor              0.011824 -0.040392  0.005382       0.025235   \n",
       "Фаза Ver              0.022025 -0.027857 -0.004896       0.023368   \n",
       "Уровень шума         -0.103142  0.151747 -0.125473      -0.139898   \n",
       "Азимут                1.000000 -0.351181 -0.115784       0.298235   \n",
       "У.М.                 -0.351181  1.000000  0.136634      -0.664329   \n",
       "Секунда              -0.115784  0.136634  1.000000       0.039631   \n",
       "Дальность (м)         0.298235 -0.664329  0.039631       1.000000   \n",
       "Доля сигнала в ВП    -0.048005  0.030407  0.129095       0.022388   \n",
       "Тип марсианина        0.023581  0.049693 -0.173169      -0.530897   \n",
       "\n",
       "                      Доля сигнала в ВП  Тип марсианина  \n",
       "№ испытания                    0.124126       -0.169779  \n",
       "Модуль сигнала                 0.097808        0.021580  \n",
       "Тип_измерения                 -0.038494        0.019426  \n",
       "Количество импульсов           0.022666        0.123542  \n",
       "Фаза Hor                      -0.002086        0.003897  \n",
       "Фаза Ver                       0.015075        0.002198  \n",
       "Уровень шума                   0.049155        0.042167  \n",
       "Азимут                        -0.048005        0.023581  \n",
       "У.М.                           0.030407        0.049693  \n",
       "Секунда                        0.129095       -0.173169  \n",
       "Дальность (м)                  0.022388       -0.530897  \n",
       "Доля сигнала в ВП              1.000000       -0.044167  \n",
       "Тип марсианина                -0.044167        1.000000  "
      ]
     },
     "execution_count": 3,
     "metadata": {},
     "output_type": "execute_result"
    }
   ],
   "source": [
    "train.corr()"
   ]
  },
  {
   "cell_type": "markdown",
   "id": "ac2f30cc",
   "metadata": {},
   "source": [
    "## Обучение классификатора и оценка предсказательной способности"
   ]
  },
  {
   "cell_type": "code",
   "execution_count": 4,
   "id": "ab86402c",
   "metadata": {},
   "outputs": [
    {
     "data": {
      "application/vnd.jupyter.widget-view+json": {
       "model_id": "543160c575fe4ba6b9adc971eb5ae09a",
       "version_major": 2,
       "version_minor": 0
      },
      "text/plain": [
       "0it [00:00, ?it/s]"
      ]
     },
     "metadata": {},
     "output_type": "display_data"
    },
    {
     "name": "stdout",
     "output_type": "stream",
     "text": [
      "0.9995114802149487\n",
      "0.9990234375\n",
      "1.0\n",
      "1.0\n",
      "1.0\n",
      "\n",
      "0.9997069835429897\n",
      "==================================================\n"
     ]
    },
    {
     "data": {
      "application/vnd.jupyter.widget-view+json": {
       "model_id": "bddbf61f34ef49c2a7094d14f4d241df",
       "version_major": 2,
       "version_minor": 0
      },
      "text/plain": [
       "0it [00:00, ?it/s]"
      ]
     },
     "metadata": {},
     "output_type": "display_data"
    },
    {
     "name": "stdout",
     "output_type": "stream",
     "text": [
      "0.9970731707317073\n",
      "0.9970674486803518\n",
      "0.9990224828934506\n",
      "0.9990224828934506\n",
      "0.9980468750000001\n",
      "\n",
      "0.9980464920397921\n",
      "==================================================\n"
     ]
    },
    {
     "data": {
      "application/vnd.jupyter.widget-view+json": {
       "model_id": "94271aa54c8c40928bb446248c6bd1ff",
       "version_major": 2,
       "version_minor": 0
      },
      "text/plain": [
       "0it [00:00, ?it/s]"
      ]
     },
     "metadata": {},
     "output_type": "display_data"
    },
    {
     "name": "stdout",
     "output_type": "stream",
     "text": [
      "0.999137187230371\n",
      "1.0\n",
      "1.0\n",
      "0.9991386735572783\n",
      "0.9982788296041308\n",
      "\n",
      "0.999310938078356\n",
      "==================================================\n"
     ]
    }
   ],
   "source": [
    "np.random.seed(5432)\n",
    "\n",
    "kfold = StratifiedKFold(n_splits=5, shuffle=True, random_state=5432)\n",
    "ESTIMATORS = [\n",
    "    (\"cb\", CatBoostClassifier(random_seed=5432, depth=10)),\n",
    "    (\"xgb\", XGBClassifier(n_estimators=800, n_jobs=-1)),\n",
    "]\n",
    "\n",
    "all_models = {}\n",
    "for i in range(1, 4):\n",
    "    trial = train[train[\"№ испытания\"].values == i].drop([\"№ испытания\"], axis=1).reset_index(drop=True)\n",
    "    y = trial[\"Тип марсианина\"].values\n",
    "    x = trial.drop([\"Тип марсианина\"], axis=1)\n",
    "    \n",
    "    f1_mean, models = 0.0, []\n",
    "    for train_idx, val_idx in notebook.tqdm(kfold.split(x, y)):\n",
    "        clf = VotingClassifier(estimators=ESTIMATORS, n_jobs=-1, verbose=1)\n",
    "        clf.fit(x.loc[train_idx], y[train_idx])\n",
    "        models.append(clf)\n",
    "        preds = clf.predict(x.loc[val_idx])\n",
    "        f1 = f1_score(y[val_idx], preds)\n",
    "        f1_mean += f1\n",
    "        print(f1)\n",
    "        \n",
    "    all_models[i] = models\n",
    "    print()\n",
    "    print(f1_mean / kfold.n_splits)\n",
    "    print(50 * '=')"
   ]
  },
  {
   "cell_type": "markdown",
   "id": "ab5ab1bd",
   "metadata": {},
   "source": [
    "## Сохранение весов классификатора"
   ]
  },
  {
   "cell_type": "code",
   "execution_count": 5,
   "id": "a2285249",
   "metadata": {},
   "outputs": [],
   "source": [
    "for key in all_models.keys():\n",
    "    estimators = all_models[key]\n",
    "    for i, estimator in enumerate(estimators):\n",
    "        with open(f\"models/{key}_model_{i}.pkl\", \"wb\") as file:\n",
    "            pickle.dump(estimator, file)"
   ]
  },
  {
   "cell_type": "markdown",
   "id": "3da7c712",
   "metadata": {},
   "source": [
    "---"
   ]
  }
 ],
 "metadata": {
  "kernelspec": {
   "display_name": "Python 3 (ipykernel)",
   "language": "python",
   "name": "python3"
  },
  "language_info": {
   "codemirror_mode": {
    "name": "ipython",
    "version": 3
   },
   "file_extension": ".py",
   "mimetype": "text/x-python",
   "name": "python",
   "nbconvert_exporter": "python",
   "pygments_lexer": "ipython3",
   "version": "3.9.13"
  },
  "varInspector": {
   "cols": {
    "lenName": 16,
    "lenType": 16,
    "lenVar": 40
   },
   "kernels_config": {
    "python": {
     "delete_cmd_postfix": "",
     "delete_cmd_prefix": "del ",
     "library": "var_list.py",
     "varRefreshCmd": "print(var_dic_list())"
    },
    "r": {
     "delete_cmd_postfix": ") ",
     "delete_cmd_prefix": "rm(",
     "library": "var_list.r",
     "varRefreshCmd": "cat(var_dic_list()) "
    }
   },
   "types_to_exclude": [
    "module",
    "function",
    "builtin_function_or_method",
    "instance",
    "_Feature"
   ],
   "window_display": false
  }
 },
 "nbformat": 4,
 "nbformat_minor": 5
}
